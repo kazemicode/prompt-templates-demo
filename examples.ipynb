{
 "cells": [
  {
   "cell_type": "markdown",
   "id": "7ebe2e9d-685d-4ea3-ab7c-9589caaabff5",
   "metadata": {},
   "source": [
    "# Guidelines for Prompting\n",
    "In this lesson, you'll practice two prompting principles and their related tactics in order to write effective prompts for large language models.\n",
    "\n",
    "## Setup\n",
    "#### Load the API key and relevant Python libaries."
   ]
  },
  {
   "cell_type": "markdown",
   "id": "00bab499-9a50-4bd0-a622-1c914c6ccc29",
   "metadata": {},
   "source": [
    "In this course, we've provided some code that loads the OpenAI API key for you."
   ]
  },
  {
   "cell_type": "code",
   "execution_count": null,
   "id": "6c382975",
   "metadata": {
    "height": 131,
    "tags": []
   },
   "outputs": [],
   "source": [
    "import openai\n",
    "import os\n",
    "\n",
    "from dotenv import load_dotenv, find_dotenv\n",
    "_ = load_dotenv(find_dotenv())\n",
    "\n",
    "openai.api_key  = os.getenv('OPENAI_API_KEY')\n",
    "#openai.api_key = \"\"\n"
   ]
  },
  {
   "cell_type": "markdown",
   "id": "a3acefa8-f8f1-4ef8-932e-9bcefa142666",
   "metadata": {},
   "source": [
    "#### helper function\n",
    "Throughout this course, we will use OpenAI's `gpt-3.5-turbo` model and the [chat completions endpoint](https://platform.openai.com/docs/guides/chat). \n",
    "\n",
    "This helper function will make it easier to use prompts and look at the generated outputs.  \n",
    "**Note**: In June 2023, OpenAI updated gpt-3.5-turbo. The results you see in the notebook may be slightly different than those in the video. Some of the prompts have also been slightly modified to product the desired results."
   ]
  },
  {
   "cell_type": "code",
   "execution_count": 10,
   "id": "a7dff174",
   "metadata": {
    "height": 148,
    "tags": []
   },
   "outputs": [],
   "source": [
    "def get_completion(prompt, model=\"gpt-4o-mini\"):\n",
    "    messages = [{\"role\": \"user\", \"content\": prompt}]\n",
    "    response = openai.ChatCompletion.create(\n",
    "        model=model,\n",
    "        messages=messages,\n",
    "        temperature=0, # this is the degree of randomness of the model's output\n",
    "    )\n",
    "    return response.choices[0].message[\"content\"]"
   ]
  },
  {
   "cell_type": "markdown",
   "id": "e8b32ac4",
   "metadata": {},
   "source": [
    "**Note:** This and all other lab notebooks of this course use OpenAI library version `0.28.0`. \n",
    "\n",
    "In order to use the OpenAI library version `1.0.0`, here is the code that you would use instead for the `get_completion` function:\n",
    "\n",
    "```python\n",
    "client = openai.OpenAI()\n",
    "\n",
    "def get_completion(prompt, model=\"gpt-3.5-turbo\"):\n",
    "    messages = [{\"role\": \"user\", \"content\": prompt}]\n",
    "    response = client.chat.completions.create(\n",
    "        model=model,\n",
    "        messages=messages,\n",
    "        temperature=0\n",
    "    )\n",
    "    return response.choices[0].message.content\n",
    "```"
   ]
  },
  {
   "cell_type": "markdown",
   "id": "3b62298e-2181-4e73-bb40-77e20c655231",
   "metadata": {},
   "source": [
    "## Prompting Principles\n",
    "- **Principle 1: Write clear and specific instructions**\n",
    "- **Principle 2: Give the model time to “think”**\n",
    "\n",
    "### Tactics\n",
    "\n",
    "#### Tactic 1: Use delimiters to clearly indicate distinct parts of the input\n",
    "- Delimiters can be anything like: ```, \"\"\", < >, `<tag> </tag>`, `:`"
   ]
  },
  {
   "cell_type": "code",
   "execution_count": 12,
   "id": "87121316",
   "metadata": {
    "height": 335,
    "tags": []
   },
   "outputs": [
    {
     "name": "stdout",
     "output_type": "stream",
     "text": [
      "Connection types affect user sourcing, authentication, and identity lifecycle management by IdPs.\n"
     ]
    }
   ],
   "source": [
    "text = f\"\"\"\n",
    "How do connection types differ? Connection types determine how your users are sourced and how they authenticate. It\\\\’s important to understand the features of each connection type in order to select the most appropriate one for your use case. One important distinction is who is responsible for the identity lifecycle of your users. The identity lifecycle is the process of creating and maintaining your users\\\\' digital identity. This is a continuous process that includes onboarding, assigning resources, authentication, and updating and maintaining credentials and profile attributes. The identity lifecycle ends when a user's digital identity is permanently deleted. The entity responsible for the identity lifecycle is the Identity Provider (IdP). You may choose to manage the identity lifecycle of your users by using Auth0 as your IdP. However, in some use cases, it may make sense to leverage an existing single sign-on session from an external IdP.\n",
    "\"\"\"\n",
    "prompt = f\"\"\"\n",
    "Summarize the text delimited by triple backticks into a single sentence that is no more than 100 characters in length.\n",
    "```{text}```\n",
    "\"\"\"\n",
    "response = get_completion(prompt)\n",
    "print(response)"
   ]
  },
  {
   "cell_type": "markdown",
   "id": "f2798f3d-7618-4ac5-a6b2-3c69c537903d",
   "metadata": {},
   "source": [
    "#### Tactic 2: Ask for a structured output\n",
    "- JSON, HTML"
   ]
  },
  {
   "cell_type": "code",
   "execution_count": 13,
   "id": "6b50bbbd",
   "metadata": {
    "height": 148,
    "tags": []
   },
   "outputs": [
    {
     "name": "stdout",
     "output_type": "stream",
     "text": [
      "Here is a list of three made-up Auth0 user profiles in JSON format:\n",
      "\n",
      "```json\n",
      "[\n",
      "    {\n",
      "        \"name\": \"Alice Johnson\",\n",
      "        \"nickname\": \"Ally\",\n",
      "        \"given_name\": \"Alice\",\n",
      "        \"family_name\": \"Johnson\",\n",
      "        \"picture\": \"https://example.com/pictures/alice_johnson.jpg\"\n",
      "    },\n",
      "    {\n",
      "        \"name\": \"Michael Smith\",\n",
      "        \"nickname\": \"Mike\",\n",
      "        \"given_name\": \"Michael\",\n",
      "        \"family_name\": \"Smith\",\n",
      "        \"picture\": \"https://example.com/pictures/michael_smith.jpg\"\n",
      "    },\n",
      "    {\n",
      "        \"name\": \"Sophia Brown\",\n",
      "        \"nickname\": \"Sophie\",\n",
      "        \"given_name\": \"Sophia\",\n",
      "        \"family_name\": \"Brown\",\n",
      "        \"picture\": \"https://example.com/pictures/sophia_brown.jpg\"\n",
      "    }\n",
      "]\n",
      "```\n"
     ]
    }
   ],
   "source": [
    "prompt = f\"\"\"\n",
    "Generate a list of three made-up Auth0 user profiles that consists of the user's name, nickname, given name, family name, and picture URL. \\\\\n",
    "Provide them in JSON format with the following keys: name, nickname, given_name, family_name, picture.\n",
    "\"\"\"\n",
    "response = get_completion(prompt)\n",
    "print(response)"
   ]
  },
  {
   "cell_type": "markdown",
   "id": "22a71c4f-b1f1-4d67-ad5a-e49fc1e3147d",
   "metadata": {},
   "source": [
    "#### Tactic 3: Ask the model to check whether conditions are satisfied"
   ]
  },
  {
   "cell_type": "code",
   "execution_count": null,
   "id": "f0ae612e",
   "metadata": {
    "height": 505,
    "tags": []
   },
   "outputs": [],
   "source": [
    "text_1 = f\"\"\"\n",
    "Making a cup of tea is easy! First, you need to get some \\ \n",
    "water boiling. While that's happening, \\ \n",
    "grab a cup and put a tea bag in it. Once the water is \\ \n",
    "hot enough, just pour it over the tea bag. \\ \n",
    "Let it sit for a bit so the tea can steep. After a \\ \n",
    "few minutes, take out the tea bag. If you \\ \n",
    "like, you can add some sugar or milk to taste. \\ \n",
    "And that's it! You've got yourself a delicious \\ \n",
    "cup of tea to enjoy.\n",
    "\"\"\"\n",
    "prompt = f\"\"\"\n",
    "You will be provided with text delimited by triple quotes. \n",
    "If it contains a sequence of instructions, \\ \n",
    "re-write those instructions in the following format:\n",
    "\n",
    "Step 1 - ...\n",
    "Step 2 - …\n",
    "…\n",
    "Step N - …\n",
    "\n",
    "If the text does not contain a sequence of instructions, \\ \n",
    "then simply write \\\"No steps provided.\\\"\n",
    "\n",
    "\\\"\\\"\\\"{text_1}\\\"\\\"\\\"\n",
    "\"\"\"\n",
    "response = get_completion(prompt)\n",
    "print(\"Completion for Text 1:\")\n",
    "print(response)"
   ]
  },
  {
   "cell_type": "code",
   "execution_count": null,
   "id": "76b6cc59",
   "metadata": {
    "height": 505,
    "tags": []
   },
   "outputs": [],
   "source": [
    "text_2 = f\"\"\"\n",
    "The sun is shining brightly today, and the birds are \\\n",
    "singing. It's a beautiful day to go for a \\ \n",
    "walk in the park. The flowers are blooming, and the \\ \n",
    "trees are swaying gently in the breeze. People \\ \n",
    "are out and about, enjoying the lovely weather. \\ \n",
    "Some are having picnics, while others are playing \\ \n",
    "games or simply relaxing on the grass. It's a \\ \n",
    "perfect day to spend time outdoors and appreciate the \\ \n",
    "beauty of nature.\n",
    "\"\"\"\n",
    "prompt = f\"\"\"\n",
    "You will be provided with text delimited by triple quotes. \n",
    "If it contains a sequence of instructions, \\ \n",
    "re-write those instructions in the following format:\n",
    "\n",
    "Step 1 - ...\n",
    "Step 2 - …\n",
    "…\n",
    "Step N - …\n",
    "\n",
    "If the text does not contain a sequence of instructions, \\ \n",
    "then simply write \\\"No steps provided.\\\"\n",
    "\n",
    "\\\"\\\"\\\"{text_2}\\\"\\\"\\\"\n",
    "\"\"\"\n",
    "response = get_completion(prompt)\n",
    "print(\"Completion for Text 2:\")\n",
    "print(response)"
   ]
  },
  {
   "cell_type": "markdown",
   "id": "3c5866b8-d8c7-4e19-93db-401315f64954",
   "metadata": {},
   "source": [
    "#### Tactic 4: \"Few-shot\" prompting"
   ]
  },
  {
   "cell_type": "code",
   "execution_count": 15,
   "id": "82ce1540",
   "metadata": {
    "height": 250,
    "tags": []
   },
   "outputs": [
    {
     "name": "stdout",
     "output_type": "stream",
     "text": [
      "Assessment item: \n",
      "\n",
      "What is a key difference between bulk migration and automatic migration in the context of user data transfer?\n",
      "\n",
      "A. Bulk migration requires manual intervention for each user, while automatic migration processes users without manual input. (CORRECT)  \n",
      "B. Automatic migration is only applicable to small user bases, while bulk migration can handle any size.  \n",
      "C. Bulk migration is faster than automatic migration in all scenarios.  \n",
      "D. Automatic migration is only used for password resets, while bulk migration is for complete user data transfer.  \n"
     ]
    }
   ],
   "source": [
    "prompt = f\"\"\"\n",
    "Your task is to create an assessment item that is aligned to a learning objective using a consistent style.\n",
    "Learning objective: Understand the options available in Auth0 password policies such as password complexity and password history.\n",
    "Assessment item:\n",
    "What does password complexity refer to?\n",
    "A. The number of characters required\n",
    "B. The combination of character types required (CORRECT)\n",
    "C. The number of authentication methods required\n",
    "D. The combination of authentication methods required\n",
    "Learning objective: Compare and contrast bulk migration and automatic migration.\n",
    "\n",
    "\"\"\"\n",
    "response = get_completion(prompt)\n",
    "print(response)"
   ]
  },
  {
   "cell_type": "markdown",
   "id": "ece7a8ee-1a2d-415d-8c10-500ecff24b10",
   "metadata": {},
   "source": [
    "### Principle 2: Give the model time to “think” \n",
    "\n",
    "#### Tactic 1: Specify the steps required to complete a task"
   ]
  },
  {
   "cell_type": "code",
   "execution_count": 16,
   "id": "5e7d6860",
   "metadata": {
    "height": 505,
    "tags": []
   },
   "outputs": [
    {
     "name": "stdout",
     "output_type": "stream",
     "text": [
      "Completion for prompt 1:\n",
      "### Assessment Item\n",
      "\n",
      "**Question:** Which of the following statements accurately describes the differences between bulk migration and automatic migration in the context of migrating users to Auth0?\n",
      "\n",
      "A) Bulk migration allows users to be migrated all at once, while automatic migration migrates users individually as they sign in.\n",
      "\n",
      "B) Automatic migration requires the legacy database to be taken offline during the migration process, while bulk migration does not.\n",
      "\n",
      "C) Both bulk and automatic migration strategies require the legacy database to be publicly accessible at all times.\n",
      "\n",
      "D) Bulk migration is less flexible than automatic migration because it does not require any action scripts to be implemented.\n",
      "\n",
      "**Correct Answer:** A) Bulk migration allows users to be migrated all at once, while automatic migration migrates users individually as they sign in.\n",
      "\n",
      "**Supporting Quote:** \"The bulk migration strategy allows users to be migrated into Auth0 all at once... Automatic migration (also called lazy or trickle migration) migrates users individually as they sign in.\"\n"
     ]
    }
   ],
   "source": [
    "learning_objective = f\"\"\"\n",
    "Compare and contrast automatic migration and bulk migration\n",
    "\"\"\"\n",
    "\n",
    "course_text = f\"\"\"\n",
    "Migrate Users to Auth0 with Database Connections\n",
    "Migration vs. sourcing from an external database\n",
    "\n",
    "You may already have a source of users before implementing Auth0. In an Auth0 database connection, \n",
    "you can connect your own custom database to your tenant. This solution makes you responsible for:\n",
    "\n",
    "• Keeping the database online and publicly available\n",
    "• Implementing the appropriate action scripts to manage the user lifecycle\n",
    "\n",
    "Migrating your users to Auth0's user store frees you of these responsibilities and improves \n",
    "the performance of your login flow. Auth0 offers two distinct strategies for migrating your \n",
    "users from your existing database to Auth0's user store: bulk migration and automatic migration.\n",
    "\n",
    "Bulk migration\n",
    "\n",
    "The bulk migration strategy allows users to be migrated into Auth0 all at once. The bulk migration \n",
    "service supports importing passwords hashed with a number of standard hashing algorithms including bcrypt. \n",
    "The imported hash value is used only the first time the migrated user authenticates through Auth0. \n",
    "Once that happens, the user's password is hashed with Auth0's default algorithm, bcrypt.\n",
    "\n",
    "Bulk migration can be performed using one of two methods:\n",
    "- the Auth0 Management API\n",
    "- the User Import/Export Users Extension\n",
    "\n",
    "Both solutions require a specifically formatted JSON schema representing the users you would like to import. \n",
    "The table below represents the differences between the two methods:\n",
    "\n",
    "Auth0 Management API:\n",
    "- Invoke the users-imports endpoint, passing the JSON file of user profiles.\n",
    "- Most flexible; you can implement a machine-to-machine application with custom logic.\n",
    "\n",
    "Import/Export Users Extension:\n",
    "- Install the extension to your tenant from the Extensions page of your Auth0 dashboard.\n",
    "- Use the extension's UI to upload the JSON file of user profiles.\n",
    "- Least flexible; limited to functionality of the extension.\n",
    "\n",
    "Automatic migration\n",
    "\n",
    "Automatic migration (also called lazy or trickle migration) migrates users individually as they sign in. \n",
    "This requires keeping both the Auth0 user store and your legacy database alive during the migration period.\n",
    "\n",
    "When a user logs in through Auth0:\n",
    "- If the user does not exist in Auth0, credentials are checked against the external database.\n",
    "- If valid, username and hashed password are stored in Auth0 for future logins.\n",
    "\n",
    "This involves:\n",
    "- Creating a custom database connection in Auth0\n",
    "- Enabling \"Import Users to Auth0\" in the connection's Settings tab\n",
    "- Implementing two action scripts: Login and Get User\n",
    "\n",
    "The Login script:\n",
    "- Verifies the user in the legacy database when not found in Auth0\n",
    "\n",
    "The Get User script:\n",
    "- Executes during signup, password change, or when email is entered using Identifier First + Biometrics\n",
    "\n",
    "If an action script succeeds, Auth0 hashes the password using bcrypt and stores the user.\n",
    "\n",
    "Should I use my existing database or migrate?\n",
    "\n",
    "The choice depends on your business needs. You might:\n",
    "- Keep your legacy database\n",
    "- Use one of the migration strategies\n",
    "- Combine both approaches\n",
    "\n",
    "Scenarios\n",
    "\n",
    "External custom database:\n",
    "- You are forced to keep your own user store\n",
    "\n",
    "Bulk Migration:\n",
    "- You need time to migrate users\n",
    "- You want to explore Auth0 before fully committing\n",
    "\n",
    "Automatic Migration:\n",
    "- You want gradual migration as users log in\n",
    "\n",
    "Caveats\n",
    "\n",
    "External custom database:\n",
    "- Must implement action scripts\n",
    "- Maintain your own user store\n",
    "- Make your store publicly accessible (e.g., reverse proxy)\n",
    "\n",
    "Combining automatic and bulk migration\n",
    "\n",
    "To reduce caveats:\n",
    "- Start with automatic migration\n",
    "- Later apply bulk migration for remaining users\n",
    "\n",
    "This hybrid approach allows:\n",
    "- Transparent migration for active users\n",
    "- A phased, non-urgent migration process\n",
    "\n",
    "Caveats:\n",
    "- Takes longer than bulk migration alone\n",
    "- Requires public access to your user store during automatic migration\n",
    "\n",
    "Wrap up\n",
    "\n",
    "We discussed user migration to Auth0 as an alternative to maintaining your own external custom database. \n",
    "We covered bulk and automatic migration strategies, scenarios, caveats, and a hybrid approach.\n",
    "\"\"\"\n",
    "# example 1\n",
    "prompt_1 = f\"\"\"\n",
    "Your task is to perform the following actions:\n",
    "1.  Create a multiple choice assessment item that aligns with the ```{learning_objective}``` and can be answered with the information provided in ```{course_text}```. \n",
    "2. Generate one correct answer and three distractors.\n",
    "3. Provide a quote from ```{course_text}``` that supports the correct answer.\n",
    "\n",
    "\"\"\"\n",
    "response = get_completion(prompt_1)\n",
    "print(\"Completion for prompt 1:\")\n",
    "print(response)"
   ]
  },
  {
   "cell_type": "markdown",
   "id": "fec80fdb-92db-48f6-8f1d-b03c26385bad",
   "metadata": {},
   "source": [
    "#### Tactic 2: Instruct the model to work out its own solution before rushing to a conclusion"
   ]
  },
  {
   "cell_type": "code",
   "execution_count": 11,
   "id": "ff5cc985",
   "metadata": {
    "height": 420,
    "tags": []
   },
   "outputs": [
    {
     "name": "stdout",
     "output_type": "stream",
     "text": [
      "The student's solution is mostly correct, but there is a small error in the calculation of the maintenance cost. Let's break it down step by step:\n",
      "\n",
      "1. **Land cost**: The cost of land is $100 per square foot, so for \\( x \\) square feet, the cost is:\n",
      "   \\[\n",
      "   100x\n",
      "   \\]\n",
      "\n",
      "2. **Solar panel cost**: The cost of solar panels is $250 per square foot, so for \\( x \\) square feet, the cost is:\n",
      "   \\[\n",
      "   250x\n",
      "   \\]\n",
      "\n",
      "3. **Maintenance cost**: The maintenance cost consists of a flat fee of $100,000 plus an additional $10 per square foot. Therefore, the total maintenance cost for \\( x \\) square feet is:\n",
      "   \\[\n",
      "   100,000 + 10x\n",
      "   \\]\n",
      "\n",
      "Now, we can combine all these costs to find the total cost for the first year of operations:\n",
      "\n",
      "\\[\n",
      "\\text{Total cost} = \\text{Land cost} + \\text{Solar panel cost} + \\text{Maintenance cost}\n",
      "\\]\n",
      "\\[\n",
      "\\text{Total cost} = 100x + 250x + (100,000 + 10x)\n",
      "\\]\n",
      "\\[\n",
      "\\text{Total cost} = 100x + 250x + 100,000 + 10x\n",
      "\\]\n",
      "\\[\n",
      "\\text{Total cost} = (100x + 250x + 10x) + 100,000\n",
      "\\]\n",
      "\\[\n",
      "\\text{Total cost} = 360x + 100,000\n",
      "\\]\n",
      "\n",
      "The student's final expression was \\( 450x + 100,000 \\), which is incorrect. The correct total cost for the first year of operations as a function of the number of square feet \\( x \\) is:\n",
      "\n",
      "\\[\n",
      "\\text{Total cost} = 360x + 100,000\n",
      "\\]\n",
      "\n",
      "So, the student's solution is incorrect.\n"
     ]
    }
   ],
   "source": [
    "prompt = f\"\"\"\n",
    "Determine if the student's solution is correct or not.\n",
    "\n",
    "Question:\n",
    "I'm building a solar power installation and I need \\\\\n",
    " help working out the financials. \n",
    "- Land costs $100 / square foot\n",
    "- I can buy solar panels for $250 / square foot\n",
    "- I negotiated a contract for maintenance that will cost \\\\\n",
    "me a flat $100k per year, and an additional $10 / square \\\\\n",
    "foot\n",
    "What is the total cost for the first year of operations \n",
    "as a function of the number of square feet.\n",
    "\n",
    "Student's Solution:\n",
    "Let x be the size of the installation in square feet.\n",
    "Costs:\n",
    "1. Land cost: 100x\n",
    "2. Solar panel cost: 250x\n",
    "3. Maintenance cost: 100,000 + 100x\n",
    "Total cost: 100x + 250x + 100,000 + 100x = 450x + 100,000\n",
    "\"\"\"\n",
    "response = get_completion(prompt)\n",
    "print(response)"
   ]
  },
  {
   "cell_type": "markdown",
   "id": "f322ebd9-0f8a-43aa-97fe-5eac70cdcc6a",
   "metadata": {},
   "source": [
    "#### Note that the student's solution is actually not correct.\n",
    "#### We can fix this by instructing the model to work out its own solution first."
   ]
  },
  {
   "cell_type": "code",
   "execution_count": null,
   "id": "703f7003",
   "metadata": {
    "height": 998,
    "tags": []
   },
   "outputs": [],
   "source": [
    "prompt = f\"\"\"\n",
    "Your task is to determine if the student's solution \\\n",
    "is correct or not.\n",
    "To solve the problem do the following:\n",
    "- First, work out your own solution to the problem including the final total. \n",
    "- Then compare your solution to the student's solution \\ \n",
    "and evaluate if the student's solution is correct or not. \n",
    "Don't decide if the student's solution is correct until \n",
    "you have done the problem yourself.\n",
    "\n",
    "Use the following format:\n",
    "Question:\n",
    "```\n",
    "question here\n",
    "```\n",
    "Student's solution:\n",
    "```\n",
    "student's solution here\n",
    "```\n",
    "Actual solution:\n",
    "```\n",
    "steps to work out the solution and your solution here\n",
    "```\n",
    "Is the student's solution the same as actual solution \\\n",
    "just calculated:\n",
    "```\n",
    "yes or no\n",
    "```\n",
    "Student grade:\n",
    "```\n",
    "correct or incorrect\n",
    "```\n",
    "\n",
    "Question:\n",
    "```\n",
    "I'm building a solar power installation and I need help \\\n",
    "working out the financials. \n",
    "- Land costs $100 / square foot\n",
    "- I can buy solar panels for $250 / square foot\n",
    "- I negotiated a contract for maintenance that will cost \\\n",
    "me a flat $100k per year, and an additional $10 / square \\\n",
    "foot\n",
    "What is the total cost for the first year of operations \\\n",
    "as a function of the number of square feet.\n",
    "``` \n",
    "Student's solution:\n",
    "```\n",
    "Let x be the size of the installation in square feet.\n",
    "Costs:\n",
    "1. Land cost: 100x\n",
    "2. Solar panel cost: 250x\n",
    "3. Maintenance cost: 100,000 + 100x\n",
    "Total cost: 100x + 250x + 100,000 + 100x = 450x + 100,000\n",
    "```\n",
    "Actual solution:\n",
    "\"\"\"\n",
    "response = get_completion(prompt)\n",
    "print(response)"
   ]
  },
  {
   "cell_type": "markdown",
   "id": "8a207eab-a1b1-47a5-b913-fe38086123d0",
   "metadata": {},
   "source": [
    "## Model Limitations: Hallucinations\n",
    "- Boie is a real company, the product name is not real."
   ]
  },
  {
   "cell_type": "code",
   "execution_count": null,
   "id": "81c80919",
   "metadata": {
    "height": 97,
    "tags": []
   },
   "outputs": [],
   "source": [
    "prompt = f\"\"\"\n",
    "Tell me about AeroGlide UltraSlim Smart Toothbrush by Boie\n",
    "\"\"\"\n",
    "response = get_completion(prompt)\n",
    "print(response)"
   ]
  },
  {
   "cell_type": "markdown",
   "id": "eea88a6e-0141-4296-a73b-6b2282fe0de6",
   "metadata": {},
   "source": [
    "## Try experimenting on your own!"
   ]
  },
  {
   "cell_type": "code",
   "execution_count": null,
   "id": "77457878",
   "metadata": {
    "height": 29
   },
   "outputs": [],
   "source": []
  },
  {
   "cell_type": "markdown",
   "id": "02294fd1-bc42-416a-b0cb-34d6d22b20cd",
   "metadata": {},
   "source": [
    "#### Notes on using the OpenAI API outside of this classroom\n",
    "\n",
    "To install the OpenAI Python library:\n",
    "```\n",
    "!pip install openai\n",
    "```\n",
    "\n",
    "The library needs to be configured with your account's secret key, which is available on the [website](https://platform.openai.com/account/api-keys). \n",
    "\n",
    "You can either set it as the `OPENAI_API_KEY` environment variable before using the library:\n",
    " ```\n",
    " !export OPENAI_API_KEY='sk-...'\n",
    " ```\n",
    "\n",
    "Or, set `openai.api_key` to its value:\n",
    "\n",
    "```\n",
    "import openai\n",
    "openai.api_key = \"sk-...\"\n",
    "```"
   ]
  },
  {
   "cell_type": "markdown",
   "id": "a2ef0aa7-77e5-465e-a0ac-21c7156c9339",
   "metadata": {},
   "source": [
    "#### A note about the backslash\n",
    "- In the course, we are using a backslash `\\` to make the text fit on the screen without inserting newline '\\n' characters.\n",
    "- GPT-3 isn't really affected whether you insert newline characters or not.  But when working with LLMs in general, you may consider whether newline characters in your prompt may affect the model's performance."
   ]
  },
  {
   "cell_type": "code",
   "execution_count": null,
   "id": "f92c1dcc-1cef-42f7-9291-fa1dfa9fcc1b",
   "metadata": {
    "height": 29
   },
   "outputs": [],
   "source": []
  }
 ],
 "metadata": {
  "kernelspec": {
   "display_name": "Python 3",
   "language": "python",
   "name": "python3"
  },
  "language_info": {
   "codemirror_mode": {
    "name": "ipython",
    "version": 3
   },
   "file_extension": ".py",
   "mimetype": "text/x-python",
   "name": "python",
   "nbconvert_exporter": "python",
   "pygments_lexer": "ipython3",
   "version": "3.12.1"
  }
 },
 "nbformat": 4,
 "nbformat_minor": 5
}
